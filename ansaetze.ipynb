{
 "cells": [
  {
   "cell_type": "code",
   "execution_count": 1,
   "metadata": {},
   "outputs": [],
   "source": [
    "from typing import Optional\n",
    "from pennylane import numpy as np\n",
    "import pennylane as qml"
   ]
  },
  {
   "cell_type": "code",
   "execution_count": 2,
   "metadata": {},
   "outputs": [
    {
     "name": "stdout",
     "output_type": "stream",
     "text": [
      "No_Ansatz\n",
      "Circuit_1\n",
      "Circuit_2\n",
      "Circuit_3\n",
      "Circuit_4\n",
      "Circuit_6\n",
      "Circuit_9\n",
      "Circuit_10\n",
      "Circuit_15\n",
      "Circuit_16\n",
      "Circuit_17\n",
      "Circuit_18\n",
      "Circuit_19\n",
      "No_Entangling\n",
      "Strongly_Entangling\n",
      "Hardware_Efficient\n"
     ]
    }
   ],
   "source": [
    "from qml_essentials.ansaetze import Ansaetze\n",
    "all_ansaetze = Ansaetze.get_available()\n",
    "\n",
    "for ansatz in all_ansaetze:\n",
    "    print(ansatz.__name__)"
   ]
  },
  {
   "cell_type": "code",
   "execution_count": 3,
   "metadata": {},
   "outputs": [],
   "source": [
    "from qml_essentials.ansaetze import Circuit\n",
    "\n",
    "class MyHardwareEfficient(Circuit):\n",
    "    @staticmethod\n",
    "    def n_params_per_layer(n_qubits: int) -> int:\n",
    "        return n_qubits * 3\n",
    "\n",
    "    @staticmethod\n",
    "    def get_control_indices(n_qubits: int) -> Optional[np.ndarray]:\n",
    "        return None\n",
    "\n",
    "    @staticmethod\n",
    "    def build(w: np.ndarray, n_qubits: int, noise_params=None):\n",
    "        w_idx = 0\n",
    "        for q in range(n_qubits):\n",
    "            qml.RY(w[w_idx], wires=q)\n",
    "            w_idx += 1\n",
    "            qml.RZ(w[w_idx], wires=q)\n",
    "            w_idx += 1\n",
    "\n",
    "        if n_qubits > 1:\n",
    "            for q in range(n_qubits - 1):\n",
    "                qml.CZ(wires=[q, q + 1])\n",
    "\n",
    "from qml_essentials.model import Model\n",
    "\n",
    "model = Model(\n",
    "    n_qubits=2,\n",
    "    n_layers=1,\n",
    "    circuit_type=MyHardwareEfficient,\n",
    ")"
   ]
  },
  {
   "cell_type": "code",
   "execution_count": 4,
   "metadata": {},
   "outputs": [
    {
     "data": {
      "text/plain": [
       "tensor([ 0.42649347, -0.5008437 ], requires_grad=True)"
      ]
     },
     "execution_count": 4,
     "metadata": {},
     "output_type": "execute_result"
    }
   ],
   "source": [
    "from qml_essentials.model import Model\n",
    "from qml_essentials.ansaetze import Gates\n",
    "\n",
    "def MyCustomEncoding(w, wires, noise_params=None):\n",
    "    Gates.RX(w[0], wires, noise_params=noise_params)\n",
    "    Gates.RY(w[1], wires, noise_params=noise_params)\n",
    "\n",
    "model = Model(\n",
    "    n_qubits=2,\n",
    "    n_layers=1,\n",
    "    circuit_type=MyHardwareEfficient,\n",
    "    encoding=MyCustomEncoding,\n",
    ")\n",
    "\n",
    "model(inputs=[1, 2])"
   ]
  },
  {
   "cell_type": "code",
   "execution_count": null,
   "metadata": {},
   "outputs": [
    {
     "data": {
      "text/plain": [
       "tensor([[ 6.32470553e-01-8.32667268e-19j,\n",
       "          3.87151515e-02+1.17521966e-01j,\n",
       "         -4.94760255e-02-4.37715289e-01j,\n",
       "         -8.57727031e-02+2.67342370e-02j],\n",
       "        [ 3.87151515e-02-1.17521966e-01j,\n",
       "          2.69463691e-02+0.00000000e+00j,\n",
       "         -8.74075510e-02-1.80601774e-02j,\n",
       "         -2.65040244e-04+1.89353842e-02j],\n",
       "        [-4.94760255e-02+4.37715289e-01j,\n",
       "         -8.74075510e-02+1.80601774e-02j,\n",
       "          3.26492035e-01-2.69229083e-17j,\n",
       "         -1.25268413e-02-6.52209442e-02j],\n",
       "        [-8.57727031e-02-2.67342370e-02j,\n",
       "         -2.65040244e-04-1.89353842e-02j,\n",
       "         -1.25268413e-02+6.52209442e-02j,\n",
       "          1.40910425e-02+0.00000000e+00j]], requires_grad=True)"
      ]
     },
     "execution_count": 5,
     "metadata": {},
     "output_type": "execute_result"
    }
   ],
   "source": [
    "noise_params = {\n",
    "    \"BitFlip\": 0.0,\n",
    "    \"PhaseFlip\": 0.0,\n",
    "    \"AmplitudeDamping\": 0.0,\n",
    "    \"PhaseDamping\": 0.0,\n",
    "    \"Depolarizing\": 0.0,\n",
    "    \"MultiQubitDepolarizing\": 0.0,\n",
    "}\n",
    "\n",
    "class MyNoisyHardwareEfficient(Circuit):\n",
    "    @staticmethod\n",
    "    def n_params_per_layer(n_qubits: int) -> int:\n",
    "        return n_qubits * 3\n",
    "\n",
    "    @staticmethod\n",
    "    def get_control_indices(n_qubits: int) -> Optional[np.ndarray]:\n",
    "        return None\n",
    "\n",
    "    @staticmethod\n",
    "    def build(w: np.ndarray, n_qubits: int, noise_params=None):\n",
    "        w_idx = 0\n",
    "        for q in range(n_qubits):\n",
    "            Gates.RY(w[w_idx], wires=q, noise_params=noise_params)\n",
    "            w_idx += 1\n",
    "            Gates.RZ(w[w_idx], wires=q, noise_params=noise_params)\n",
    "            w_idx += 1\n",
    "\n",
    "        if n_qubits > 1:\n",
    "            for q in range(n_qubits - 1):\n",
    "                Gates.CZ(wires=[q, q + 1], noise_params=noise_params)\n",
    "\n",
    "model(\n",
    "    model.params,\n",
    "    inputs=None,\n",
    "    execution_type=\"density\",\n",
    "    noise_params={\n",
    "        \"BitFlip\": 0.01,\n",
    "        \"PhaseFlip\": 0.02,\n",
    "        \"AmplitudeDamping\": 0.03,\n",
    "        \"PhaseDamping\": 0.04,\n",
    "        \"Depolarizing\": 0.05,\n",
    "        \"MultiQubitDepolarizing\": 0.06,\n",
    "})"
   ]
  }
 ],
 "metadata": {
  "kernelspec": {
   "display_name": ".venv",
   "language": "python",
   "name": "python3"
  },
  "language_info": {
   "codemirror_mode": {
    "name": "ipython",
    "version": 3
   },
   "file_extension": ".py",
   "mimetype": "text/x-python",
   "name": "python",
   "nbconvert_exporter": "python",
   "pygments_lexer": "ipython3",
   "version": "3.11.11"
  }
 },
 "nbformat": 4,
 "nbformat_minor": 2
}
