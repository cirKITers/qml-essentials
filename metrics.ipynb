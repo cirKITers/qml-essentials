{
 "cells": [
  {
   "cell_type": "code",
   "execution_count": 2,
   "metadata": {},
   "outputs": [],
   "source": [
    "from qml_essentials.model import Model\n",
    "from qml_essentials.entanglement import Entanglement\n",
    "\n",
    "model = Model(\n",
    "            n_qubits=2,\n",
    "            n_layers=1,\n",
    "            circuit_type=\"Hardware_Efficient\",\n",
    "        )\n",
    "\n",
    "ent_cap = Entanglement.meyer_wallach(\n",
    "    model, n_samples=1000, seed=1000\n",
    ")"
   ]
  },
  {
   "cell_type": "code",
   "execution_count": 3,
   "metadata": {},
   "outputs": [],
   "source": [
    "ent_cap = Entanglement.meyer_wallach(\n",
    "    model, n_samples=1000, seed=1000, cache=True\n",
    ")"
   ]
  },
  {
   "cell_type": "code",
   "execution_count": 4,
   "metadata": {},
   "outputs": [],
   "source": [
    "ent_cap = Entanglement.bell_measurements(\n",
    "    model, n_samples=1000, seed=1000, cache=True\n",
    ")"
   ]
  }
 ],
 "metadata": {
  "kernelspec": {
   "display_name": ".venv",
   "language": "python",
   "name": "python3"
  },
  "language_info": {
   "codemirror_mode": {
    "name": "ipython",
    "version": 3
   },
   "file_extension": ".py",
   "mimetype": "text/x-python",
   "name": "python",
   "nbconvert_exporter": "python",
   "pygments_lexer": "ipython3",
   "version": "3.11.11"
  }
 },
 "nbformat": 4,
 "nbformat_minor": 2
}
