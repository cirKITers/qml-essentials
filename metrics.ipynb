{
 "cells": [
  {
   "cell_type": "code",
   "execution_count": 1,
   "metadata": {},
   "outputs": [],
   "source": [
    "from qml_essentials.model import Model\n",
    "from qml_essentials.entanglement import Entanglement\n",
    "\n",
    "model = Model(\n",
    "            n_qubits=2,\n",
    "            n_layers=1,\n",
    "            circuit_type=\"Hardware_Efficient\",\n",
    "        )"
   ]
  },
  {
   "cell_type": "code",
   "execution_count": 3,
   "metadata": {},
   "outputs": [],
   "source": [
    "ent_cap = Entanglement.meyer_wallach(\n",
    "    model, n_samples=1000, seed=1000, cache=True\n",
    ")"
   ]
  },
  {
   "cell_type": "code",
   "execution_count": 4,
   "metadata": {},
   "outputs": [],
   "source": [
    "ent_cap = Entanglement.bell_measurements(\n",
    "    model, n_samples=1000, seed=1000, cache=True\n",
    ")"
   ]
  },
  {
   "cell_type": "code",
   "execution_count": 4,
   "metadata": {},
   "outputs": [
    {
     "name": "stderr",
     "output_type": "stream",
     "text": [
      "/home/lc3267/Documents/CodeWorkspace/qml-essentials/.venv/lib64/python3.11/site-packages/scipy/linalg/_matfuncs.py:202: LogmNearlySingularWarning: The logm input matrix may be nearly singular.\n",
      "  F = scipy.linalg._matfuncs_inv_ssq._logm(A)\n",
      "/home/lc3267/Documents/CodeWorkspace/qml-essentials/.venv/lib64/python3.11/site-packages/scipy/linalg/_matfuncs.py:202: LogmExactlySingularWarning: The logm input matrix is exactly singular.\n",
      "  F = scipy.linalg._matfuncs_inv_ssq._logm(A)\n"
     ]
    }
   ],
   "source": [
    "ent_cap = Entanglement.relative_entropy(\n",
    "    model, n_samples=1000, n_sigmas=10, seed=1000, noise_params={\"BitFlip\": 0.1}\n",
    ")"
   ]
  }
 ],
 "metadata": {
  "kernelspec": {
   "display_name": ".venv",
   "language": "python",
   "name": "python3"
  },
  "language_info": {
   "codemirror_mode": {
    "name": "ipython",
    "version": 3
   },
   "file_extension": ".py",
   "mimetype": "text/x-python",
   "name": "python",
   "nbconvert_exporter": "python",
   "pygments_lexer": "ipython3",
   "version": "3.11.11"
  }
 },
 "nbformat": 4,
 "nbformat_minor": 2
}
